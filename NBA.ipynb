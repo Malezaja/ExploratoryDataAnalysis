{
  "nbformat": 4,
  "nbformat_minor": 0,
  "metadata": {
    "colab": {
      "name": "nba_EDA",
      "provenance": []
    },
    "kernelspec": {
      "name": "python3",
      "display_name": "Python 3"
    },
    "language_info": {
      "name": "python"
    }
  },
  "cells": [
    {
      "cell_type": "markdown",
      "metadata": {
        "id": "uyQbyISQFiSy"
      },
      "source": [
        "# NBA Exoloratory Data Analysis Manuel Zapata\n"
      ]
    },
    {
      "cell_type": "code",
      "metadata": {
        "id": "XwaH8jQoTe3d"
      },
      "source": [
        "import numpy as np\n",
        "import pandas as pd"
      ],
      "execution_count": 1,
      "outputs": []
    },
    {
      "cell_type": "code",
      "metadata": {
        "colab": {
          "base_uri": "https://localhost:8080/",
          "height": 205
        },
        "id": "F0kTaZAsdJWF",
        "outputId": "b71262bb-0b1d-4127-de81-baef33702d68"
      },
      "source": [
        "nba = pd.read_csv(\"https://raw.githubusercontent.com/Malezaja/data/master/nba.csv\", index_col='Unnamed: 0')\n",
        "nba.head()"
      ],
      "execution_count": 2,
      "outputs": [
        {
          "output_type": "execute_result",
          "data": {
            "text/html": [
              "<div>\n",
              "<style scoped>\n",
              "    .dataframe tbody tr th:only-of-type {\n",
              "        vertical-align: middle;\n",
              "    }\n",
              "\n",
              "    .dataframe tbody tr th {\n",
              "        vertical-align: top;\n",
              "    }\n",
              "\n",
              "    .dataframe thead th {\n",
              "        text-align: right;\n",
              "    }\n",
              "</style>\n",
              "<table border=\"1\" class=\"dataframe\">\n",
              "  <thead>\n",
              "    <tr style=\"text-align: right;\">\n",
              "      <th></th>\n",
              "      <th>Name</th>\n",
              "      <th>Team</th>\n",
              "      <th>Number</th>\n",
              "      <th>Position</th>\n",
              "      <th>Age</th>\n",
              "      <th>Height</th>\n",
              "      <th>Weight</th>\n",
              "      <th>College</th>\n",
              "      <th>Salary</th>\n",
              "    </tr>\n",
              "  </thead>\n",
              "  <tbody>\n",
              "    <tr>\n",
              "      <th>0</th>\n",
              "      <td>Avery Bradley</td>\n",
              "      <td>Boston Celtics</td>\n",
              "      <td>0.0</td>\n",
              "      <td>PG</td>\n",
              "      <td>25.0</td>\n",
              "      <td>6-2</td>\n",
              "      <td>180.0</td>\n",
              "      <td>Texas</td>\n",
              "      <td>7730337.0</td>\n",
              "    </tr>\n",
              "    <tr>\n",
              "      <th>1</th>\n",
              "      <td>Jae Crowder</td>\n",
              "      <td>Boston Celtics</td>\n",
              "      <td>99.0</td>\n",
              "      <td>SF</td>\n",
              "      <td>25.0</td>\n",
              "      <td>6-6</td>\n",
              "      <td>235.0</td>\n",
              "      <td>Marquette</td>\n",
              "      <td>6796117.0</td>\n",
              "    </tr>\n",
              "    <tr>\n",
              "      <th>2</th>\n",
              "      <td>John Holland</td>\n",
              "      <td>Boston Celtics</td>\n",
              "      <td>30.0</td>\n",
              "      <td>SG</td>\n",
              "      <td>27.0</td>\n",
              "      <td>6-5</td>\n",
              "      <td>205.0</td>\n",
              "      <td>Boston University</td>\n",
              "      <td>NaN</td>\n",
              "    </tr>\n",
              "    <tr>\n",
              "      <th>3</th>\n",
              "      <td>R.J. Hunter</td>\n",
              "      <td>Boston Celtics</td>\n",
              "      <td>28.0</td>\n",
              "      <td>SG</td>\n",
              "      <td>22.0</td>\n",
              "      <td>6-5</td>\n",
              "      <td>185.0</td>\n",
              "      <td>Georgia State</td>\n",
              "      <td>1148640.0</td>\n",
              "    </tr>\n",
              "    <tr>\n",
              "      <th>4</th>\n",
              "      <td>Jonas Jerebko</td>\n",
              "      <td>Boston Celtics</td>\n",
              "      <td>8.0</td>\n",
              "      <td>PF</td>\n",
              "      <td>29.0</td>\n",
              "      <td>6-10</td>\n",
              "      <td>231.0</td>\n",
              "      <td>NaN</td>\n",
              "      <td>5000000.0</td>\n",
              "    </tr>\n",
              "  </tbody>\n",
              "</table>\n",
              "</div>"
            ],
            "text/plain": [
              "            Name            Team  Number  ... Weight            College     Salary\n",
              "0  Avery Bradley  Boston Celtics     0.0  ...  180.0              Texas  7730337.0\n",
              "1    Jae Crowder  Boston Celtics    99.0  ...  235.0          Marquette  6796117.0\n",
              "2   John Holland  Boston Celtics    30.0  ...  205.0  Boston University        NaN\n",
              "3    R.J. Hunter  Boston Celtics    28.0  ...  185.0      Georgia State  1148640.0\n",
              "4  Jonas Jerebko  Boston Celtics     8.0  ...  231.0                NaN  5000000.0\n",
              "\n",
              "[5 rows x 9 columns]"
            ]
          },
          "metadata": {
            "tags": []
          },
          "execution_count": 2
        }
      ]
    },
    {
      "cell_type": "code",
      "metadata": {
        "colab": {
          "base_uri": "https://localhost:8080/"
        },
        "id": "8jNSRRlpU1eo",
        "outputId": "0053c3ba-2f05-4bb7-de17-b8f0b2e9f8ba"
      },
      "source": [
        "nba.shape"
      ],
      "execution_count": 3,
      "outputs": [
        {
          "output_type": "execute_result",
          "data": {
            "text/plain": [
              "(458, 9)"
            ]
          },
          "metadata": {
            "tags": []
          },
          "execution_count": 3
        }
      ]
    },
    {
      "cell_type": "code",
      "metadata": {
        "colab": {
          "base_uri": "https://localhost:8080/"
        },
        "id": "LCnOaUuhuxG2",
        "outputId": "9a52b3ca-9666-4a98-94f0-757428bab6c4"
      },
      "source": [
        "nba.columns"
      ],
      "execution_count": 4,
      "outputs": [
        {
          "output_type": "execute_result",
          "data": {
            "text/plain": [
              "Index(['Name', 'Team', 'Number', 'Position', 'Age', 'Height', 'Weight',\n",
              "       'College', 'Salary'],\n",
              "      dtype='object')"
            ]
          },
          "metadata": {
            "tags": []
          },
          "execution_count": 4
        }
      ]
    },
    {
      "cell_type": "code",
      "metadata": {
        "colab": {
          "base_uri": "https://localhost:8080/"
        },
        "id": "QzEGK3Xiu0BT",
        "outputId": "d5b9b473-b9e9-4e77-a8da-92dcd9afedee"
      },
      "source": [
        "nba.dtypes"
      ],
      "execution_count": 5,
      "outputs": [
        {
          "output_type": "execute_result",
          "data": {
            "text/plain": [
              "Name         object\n",
              "Team         object\n",
              "Number      float64\n",
              "Position     object\n",
              "Age         float64\n",
              "Height       object\n",
              "Weight      float64\n",
              "College      object\n",
              "Salary      float64\n",
              "dtype: object"
            ]
          },
          "metadata": {
            "tags": []
          },
          "execution_count": 5
        }
      ]
    },
    {
      "cell_type": "code",
      "metadata": {
        "colab": {
          "base_uri": "https://localhost:8080/",
          "height": 205
        },
        "id": "X551cIu-vFjQ",
        "outputId": "b8577faf-c1f2-4535-f55c-13caca6bc4d7"
      },
      "source": [
        "nba.tail()"
      ],
      "execution_count": 6,
      "outputs": [
        {
          "output_type": "execute_result",
          "data": {
            "text/html": [
              "<div>\n",
              "<style scoped>\n",
              "    .dataframe tbody tr th:only-of-type {\n",
              "        vertical-align: middle;\n",
              "    }\n",
              "\n",
              "    .dataframe tbody tr th {\n",
              "        vertical-align: top;\n",
              "    }\n",
              "\n",
              "    .dataframe thead th {\n",
              "        text-align: right;\n",
              "    }\n",
              "</style>\n",
              "<table border=\"1\" class=\"dataframe\">\n",
              "  <thead>\n",
              "    <tr style=\"text-align: right;\">\n",
              "      <th></th>\n",
              "      <th>Name</th>\n",
              "      <th>Team</th>\n",
              "      <th>Number</th>\n",
              "      <th>Position</th>\n",
              "      <th>Age</th>\n",
              "      <th>Height</th>\n",
              "      <th>Weight</th>\n",
              "      <th>College</th>\n",
              "      <th>Salary</th>\n",
              "    </tr>\n",
              "  </thead>\n",
              "  <tbody>\n",
              "    <tr>\n",
              "      <th>453</th>\n",
              "      <td>Shelvin Mack</td>\n",
              "      <td>Utah Jazz</td>\n",
              "      <td>8.0</td>\n",
              "      <td>PG</td>\n",
              "      <td>26.0</td>\n",
              "      <td>6-3</td>\n",
              "      <td>203.0</td>\n",
              "      <td>Butler</td>\n",
              "      <td>2433333.0</td>\n",
              "    </tr>\n",
              "    <tr>\n",
              "      <th>454</th>\n",
              "      <td>Raul Neto</td>\n",
              "      <td>Utah Jazz</td>\n",
              "      <td>25.0</td>\n",
              "      <td>PG</td>\n",
              "      <td>24.0</td>\n",
              "      <td>6-1</td>\n",
              "      <td>179.0</td>\n",
              "      <td>NaN</td>\n",
              "      <td>900000.0</td>\n",
              "    </tr>\n",
              "    <tr>\n",
              "      <th>455</th>\n",
              "      <td>Tibor Pleiss</td>\n",
              "      <td>Utah Jazz</td>\n",
              "      <td>21.0</td>\n",
              "      <td>C</td>\n",
              "      <td>26.0</td>\n",
              "      <td>7-3</td>\n",
              "      <td>256.0</td>\n",
              "      <td>NaN</td>\n",
              "      <td>2900000.0</td>\n",
              "    </tr>\n",
              "    <tr>\n",
              "      <th>456</th>\n",
              "      <td>Jeff Withey</td>\n",
              "      <td>Utah Jazz</td>\n",
              "      <td>24.0</td>\n",
              "      <td>C</td>\n",
              "      <td>26.0</td>\n",
              "      <td>7-0</td>\n",
              "      <td>231.0</td>\n",
              "      <td>Kansas</td>\n",
              "      <td>947276.0</td>\n",
              "    </tr>\n",
              "    <tr>\n",
              "      <th>457</th>\n",
              "      <td>NaN</td>\n",
              "      <td>NaN</td>\n",
              "      <td>NaN</td>\n",
              "      <td>NaN</td>\n",
              "      <td>NaN</td>\n",
              "      <td>NaN</td>\n",
              "      <td>NaN</td>\n",
              "      <td>NaN</td>\n",
              "      <td>NaN</td>\n",
              "    </tr>\n",
              "  </tbody>\n",
              "</table>\n",
              "</div>"
            ],
            "text/plain": [
              "             Name       Team  Number Position  ...  Height Weight  College     Salary\n",
              "453  Shelvin Mack  Utah Jazz     8.0       PG  ...     6-3  203.0   Butler  2433333.0\n",
              "454     Raul Neto  Utah Jazz    25.0       PG  ...     6-1  179.0      NaN   900000.0\n",
              "455  Tibor Pleiss  Utah Jazz    21.0        C  ...     7-3  256.0      NaN  2900000.0\n",
              "456   Jeff Withey  Utah Jazz    24.0        C  ...     7-0  231.0   Kansas   947276.0\n",
              "457           NaN        NaN     NaN      NaN  ...     NaN    NaN      NaN        NaN\n",
              "\n",
              "[5 rows x 9 columns]"
            ]
          },
          "metadata": {
            "tags": []
          },
          "execution_count": 6
        }
      ]
    },
    {
      "cell_type": "code",
      "metadata": {
        "colab": {
          "base_uri": "https://localhost:8080/",
          "height": 81
        },
        "id": "vmMVfjDgvUqN",
        "outputId": "aafe9569-fcb4-4791-deca-597a9a9e5c5d"
      },
      "source": [
        "nba.sample()"
      ],
      "execution_count": 7,
      "outputs": [
        {
          "output_type": "execute_result",
          "data": {
            "text/html": [
              "<div>\n",
              "<style scoped>\n",
              "    .dataframe tbody tr th:only-of-type {\n",
              "        vertical-align: middle;\n",
              "    }\n",
              "\n",
              "    .dataframe tbody tr th {\n",
              "        vertical-align: top;\n",
              "    }\n",
              "\n",
              "    .dataframe thead th {\n",
              "        text-align: right;\n",
              "    }\n",
              "</style>\n",
              "<table border=\"1\" class=\"dataframe\">\n",
              "  <thead>\n",
              "    <tr style=\"text-align: right;\">\n",
              "      <th></th>\n",
              "      <th>Name</th>\n",
              "      <th>Team</th>\n",
              "      <th>Number</th>\n",
              "      <th>Position</th>\n",
              "      <th>Age</th>\n",
              "      <th>Height</th>\n",
              "      <th>Weight</th>\n",
              "      <th>College</th>\n",
              "      <th>Salary</th>\n",
              "    </tr>\n",
              "  </thead>\n",
              "  <tbody>\n",
              "    <tr>\n",
              "      <th>331</th>\n",
              "      <td>Frank Kaminsky III</td>\n",
              "      <td>Charlotte Hornets</td>\n",
              "      <td>44.0</td>\n",
              "      <td>C</td>\n",
              "      <td>23.0</td>\n",
              "      <td>7-0</td>\n",
              "      <td>240.0</td>\n",
              "      <td>Wisconsin</td>\n",
              "      <td>2612520.0</td>\n",
              "    </tr>\n",
              "  </tbody>\n",
              "</table>\n",
              "</div>"
            ],
            "text/plain": [
              "                   Name               Team  ...    College     Salary\n",
              "331  Frank Kaminsky III  Charlotte Hornets  ...  Wisconsin  2612520.0\n",
              "\n",
              "[1 rows x 9 columns]"
            ]
          },
          "metadata": {
            "tags": []
          },
          "execution_count": 7
        }
      ]
    },
    {
      "cell_type": "code",
      "metadata": {
        "colab": {
          "base_uri": "https://localhost:8080/"
        },
        "id": "w-kBPKUvzKJU",
        "outputId": "218a21c1-1faf-42ab-b763-0864194fe051"
      },
      "source": [
        "nba.info()"
      ],
      "execution_count": 8,
      "outputs": [
        {
          "output_type": "stream",
          "text": [
            "<class 'pandas.core.frame.DataFrame'>\n",
            "Int64Index: 458 entries, 0 to 457\n",
            "Data columns (total 9 columns):\n",
            " #   Column    Non-Null Count  Dtype  \n",
            "---  ------    --------------  -----  \n",
            " 0   Name      457 non-null    object \n",
            " 1   Team      457 non-null    object \n",
            " 2   Number    457 non-null    float64\n",
            " 3   Position  457 non-null    object \n",
            " 4   Age       457 non-null    float64\n",
            " 5   Height    457 non-null    object \n",
            " 6   Weight    457 non-null    float64\n",
            " 7   College   373 non-null    object \n",
            " 8   Salary    446 non-null    float64\n",
            "dtypes: float64(4), object(5)\n",
            "memory usage: 35.8+ KB\n"
          ],
          "name": "stdout"
        }
      ]
    },
    {
      "cell_type": "code",
      "metadata": {
        "colab": {
          "base_uri": "https://localhost:8080/",
          "height": 299
        },
        "id": "irbpiv1yzfWh",
        "outputId": "e3fdf62f-2064-4b78-e9c1-6a2c7e01af6b"
      },
      "source": [
        "nba.describe()"
      ],
      "execution_count": 9,
      "outputs": [
        {
          "output_type": "execute_result",
          "data": {
            "text/html": [
              "<div>\n",
              "<style scoped>\n",
              "    .dataframe tbody tr th:only-of-type {\n",
              "        vertical-align: middle;\n",
              "    }\n",
              "\n",
              "    .dataframe tbody tr th {\n",
              "        vertical-align: top;\n",
              "    }\n",
              "\n",
              "    .dataframe thead th {\n",
              "        text-align: right;\n",
              "    }\n",
              "</style>\n",
              "<table border=\"1\" class=\"dataframe\">\n",
              "  <thead>\n",
              "    <tr style=\"text-align: right;\">\n",
              "      <th></th>\n",
              "      <th>Number</th>\n",
              "      <th>Age</th>\n",
              "      <th>Weight</th>\n",
              "      <th>Salary</th>\n",
              "    </tr>\n",
              "  </thead>\n",
              "  <tbody>\n",
              "    <tr>\n",
              "      <th>count</th>\n",
              "      <td>457.000000</td>\n",
              "      <td>457.000000</td>\n",
              "      <td>457.000000</td>\n",
              "      <td>4.460000e+02</td>\n",
              "    </tr>\n",
              "    <tr>\n",
              "      <th>mean</th>\n",
              "      <td>17.678337</td>\n",
              "      <td>26.938731</td>\n",
              "      <td>221.522976</td>\n",
              "      <td>4.842684e+06</td>\n",
              "    </tr>\n",
              "    <tr>\n",
              "      <th>std</th>\n",
              "      <td>15.966090</td>\n",
              "      <td>4.404016</td>\n",
              "      <td>26.368343</td>\n",
              "      <td>5.229238e+06</td>\n",
              "    </tr>\n",
              "    <tr>\n",
              "      <th>min</th>\n",
              "      <td>0.000000</td>\n",
              "      <td>19.000000</td>\n",
              "      <td>161.000000</td>\n",
              "      <td>3.088800e+04</td>\n",
              "    </tr>\n",
              "    <tr>\n",
              "      <th>25%</th>\n",
              "      <td>5.000000</td>\n",
              "      <td>24.000000</td>\n",
              "      <td>200.000000</td>\n",
              "      <td>1.044792e+06</td>\n",
              "    </tr>\n",
              "    <tr>\n",
              "      <th>50%</th>\n",
              "      <td>13.000000</td>\n",
              "      <td>26.000000</td>\n",
              "      <td>220.000000</td>\n",
              "      <td>2.839073e+06</td>\n",
              "    </tr>\n",
              "    <tr>\n",
              "      <th>75%</th>\n",
              "      <td>25.000000</td>\n",
              "      <td>30.000000</td>\n",
              "      <td>240.000000</td>\n",
              "      <td>6.500000e+06</td>\n",
              "    </tr>\n",
              "    <tr>\n",
              "      <th>max</th>\n",
              "      <td>99.000000</td>\n",
              "      <td>40.000000</td>\n",
              "      <td>307.000000</td>\n",
              "      <td>2.500000e+07</td>\n",
              "    </tr>\n",
              "  </tbody>\n",
              "</table>\n",
              "</div>"
            ],
            "text/plain": [
              "           Number         Age      Weight        Salary\n",
              "count  457.000000  457.000000  457.000000  4.460000e+02\n",
              "mean    17.678337   26.938731  221.522976  4.842684e+06\n",
              "std     15.966090    4.404016   26.368343  5.229238e+06\n",
              "min      0.000000   19.000000  161.000000  3.088800e+04\n",
              "25%      5.000000   24.000000  200.000000  1.044792e+06\n",
              "50%     13.000000   26.000000  220.000000  2.839073e+06\n",
              "75%     25.000000   30.000000  240.000000  6.500000e+06\n",
              "max     99.000000   40.000000  307.000000  2.500000e+07"
            ]
          },
          "metadata": {
            "tags": []
          },
          "execution_count": 9
        }
      ]
    },
    {
      "cell_type": "code",
      "metadata": {
        "colab": {
          "base_uri": "https://localhost:8080/"
        },
        "id": "BL30qZon0AbI",
        "outputId": "cb189f10-48b2-40a5-f6c8-e5e4023bf1b3"
      },
      "source": [
        "nba.Age.describe()"
      ],
      "execution_count": 10,
      "outputs": [
        {
          "output_type": "execute_result",
          "data": {
            "text/plain": [
              "count    457.000000\n",
              "mean      26.938731\n",
              "std        4.404016\n",
              "min       19.000000\n",
              "25%       24.000000\n",
              "50%       26.000000\n",
              "75%       30.000000\n",
              "max       40.000000\n",
              "Name: Age, dtype: float64"
            ]
          },
          "metadata": {
            "tags": []
          },
          "execution_count": 10
        }
      ]
    },
    {
      "cell_type": "code",
      "metadata": {
        "colab": {
          "base_uri": "https://localhost:8080/"
        },
        "id": "8ikw7CzG0bPI",
        "outputId": "f1f9ef3b-407a-4df2-e2f4-73983a20a560"
      },
      "source": [
        "nba['Age'].quantile(q = 0.25)"
      ],
      "execution_count": 11,
      "outputs": [
        {
          "output_type": "execute_result",
          "data": {
            "text/plain": [
              "24.0"
            ]
          },
          "metadata": {
            "tags": []
          },
          "execution_count": 11
        }
      ]
    },
    {
      "cell_type": "code",
      "metadata": {
        "colab": {
          "base_uri": "https://localhost:8080/",
          "height": 175
        },
        "id": "pZIUdfTA0tBn",
        "outputId": "6c2af355-3a44-407b-db78-58b3aca7a76b"
      },
      "source": [
        "nba.describe(include='object')"
      ],
      "execution_count": 12,
      "outputs": [
        {
          "output_type": "execute_result",
          "data": {
            "text/html": [
              "<div>\n",
              "<style scoped>\n",
              "    .dataframe tbody tr th:only-of-type {\n",
              "        vertical-align: middle;\n",
              "    }\n",
              "\n",
              "    .dataframe tbody tr th {\n",
              "        vertical-align: top;\n",
              "    }\n",
              "\n",
              "    .dataframe thead th {\n",
              "        text-align: right;\n",
              "    }\n",
              "</style>\n",
              "<table border=\"1\" class=\"dataframe\">\n",
              "  <thead>\n",
              "    <tr style=\"text-align: right;\">\n",
              "      <th></th>\n",
              "      <th>Name</th>\n",
              "      <th>Team</th>\n",
              "      <th>Position</th>\n",
              "      <th>Height</th>\n",
              "      <th>College</th>\n",
              "    </tr>\n",
              "  </thead>\n",
              "  <tbody>\n",
              "    <tr>\n",
              "      <th>count</th>\n",
              "      <td>457</td>\n",
              "      <td>457</td>\n",
              "      <td>457</td>\n",
              "      <td>457</td>\n",
              "      <td>373</td>\n",
              "    </tr>\n",
              "    <tr>\n",
              "      <th>unique</th>\n",
              "      <td>457</td>\n",
              "      <td>30</td>\n",
              "      <td>5</td>\n",
              "      <td>18</td>\n",
              "      <td>118</td>\n",
              "    </tr>\n",
              "    <tr>\n",
              "      <th>top</th>\n",
              "      <td>Dirk Nowitzki</td>\n",
              "      <td>New Orleans Pelicans</td>\n",
              "      <td>SG</td>\n",
              "      <td>6-9</td>\n",
              "      <td>Kentucky</td>\n",
              "    </tr>\n",
              "    <tr>\n",
              "      <th>freq</th>\n",
              "      <td>1</td>\n",
              "      <td>19</td>\n",
              "      <td>102</td>\n",
              "      <td>59</td>\n",
              "      <td>22</td>\n",
              "    </tr>\n",
              "  </tbody>\n",
              "</table>\n",
              "</div>"
            ],
            "text/plain": [
              "                 Name                  Team Position Height   College\n",
              "count             457                   457      457    457       373\n",
              "unique            457                    30        5     18       118\n",
              "top     Dirk Nowitzki  New Orleans Pelicans       SG    6-9  Kentucky\n",
              "freq                1                    19      102     59        22"
            ]
          },
          "metadata": {
            "tags": []
          },
          "execution_count": 12
        }
      ]
    },
    {
      "cell_type": "code",
      "metadata": {
        "colab": {
          "base_uri": "https://localhost:8080/"
        },
        "id": "PtTPu4zL5ekK",
        "outputId": "96e09051-45a2-4d87-be6a-74d6939dcc65"
      },
      "source": [
        "nba.columns"
      ],
      "execution_count": 13,
      "outputs": [
        {
          "output_type": "execute_result",
          "data": {
            "text/plain": [
              "Index(['Name', 'Team', 'Number', 'Position', 'Age', 'Height', 'Weight',\n",
              "       'College', 'Salary'],\n",
              "      dtype='object')"
            ]
          },
          "metadata": {
            "tags": []
          },
          "execution_count": 13
        }
      ]
    },
    {
      "cell_type": "code",
      "metadata": {
        "colab": {
          "base_uri": "https://localhost:8080/"
        },
        "id": "v6Q0GM4r5kxd",
        "outputId": "93e27371-11ec-4e58-fe69-7650d1ae7066"
      },
      "source": [
        "nba.Team.unique()"
      ],
      "execution_count": 14,
      "outputs": [
        {
          "output_type": "execute_result",
          "data": {
            "text/plain": [
              "array(['Boston Celtics', 'Brooklyn Nets', 'New York Knicks',\n",
              "       'Philadelphia 76ers', 'Toronto Raptors', 'Golden State Warriors',\n",
              "       'Los Angeles Clippers', 'Los Angeles Lakers', 'Phoenix Suns',\n",
              "       'Sacramento Kings', 'Chicago Bulls', 'Cleveland Cavaliers',\n",
              "       'Detroit Pistons', 'Indiana Pacers', 'Milwaukee Bucks',\n",
              "       'Dallas Mavericks', 'Houston Rockets', 'Memphis Grizzlies',\n",
              "       'New Orleans Pelicans', 'San Antonio Spurs', 'Atlanta Hawks',\n",
              "       'Charlotte Hornets', 'Miami Heat', 'Orlando Magic',\n",
              "       'Washington Wizards', 'Denver Nuggets', 'Minnesota Timberwolves',\n",
              "       'Oklahoma City Thunder', 'Portland Trail Blazers', 'Utah Jazz',\n",
              "       nan], dtype=object)"
            ]
          },
          "metadata": {
            "tags": []
          },
          "execution_count": 14
        }
      ]
    },
    {
      "cell_type": "code",
      "metadata": {
        "colab": {
          "base_uri": "https://localhost:8080/"
        },
        "id": "vbsK2h7G50Ny",
        "outputId": "14c74522-d3fa-472c-d1b3-3b55a9a98038"
      },
      "source": [
        "nba.Team.value_counts()"
      ],
      "execution_count": 15,
      "outputs": [
        {
          "output_type": "execute_result",
          "data": {
            "text/plain": [
              "New Orleans Pelicans      19\n",
              "Memphis Grizzlies         18\n",
              "Milwaukee Bucks           16\n",
              "New York Knicks           16\n",
              "Indiana Pacers            15\n",
              "Portland Trail Blazers    15\n",
              "Sacramento Kings          15\n",
              "Cleveland Cavaliers       15\n",
              "Philadelphia 76ers        15\n",
              "Chicago Bulls             15\n",
              "San Antonio Spurs         15\n",
              "Washington Wizards        15\n",
              "Brooklyn Nets             15\n",
              "Boston Celtics            15\n",
              "Miami Heat                15\n",
              "Denver Nuggets            15\n",
              "Houston Rockets           15\n",
              "Oklahoma City Thunder     15\n",
              "Charlotte Hornets         15\n",
              "Toronto Raptors           15\n",
              "Dallas Mavericks          15\n",
              "Phoenix Suns              15\n",
              "Atlanta Hawks             15\n",
              "Los Angeles Lakers        15\n",
              "Detroit Pistons           15\n",
              "Los Angeles Clippers      15\n",
              "Golden State Warriors     15\n",
              "Utah Jazz                 15\n",
              "Orlando Magic             14\n",
              "Minnesota Timberwolves    14\n",
              "Name: Team, dtype: int64"
            ]
          },
          "metadata": {
            "tags": []
          },
          "execution_count": 15
        }
      ]
    },
    {
      "cell_type": "code",
      "metadata": {
        "colab": {
          "base_uri": "https://localhost:8080/",
          "height": 143
        },
        "id": "aRND-qDv6kHX",
        "outputId": "b60511e4-6085-4208-df98-1a2be6a25dc1"
      },
      "source": [
        "nba.loc[(nba['Team'] == 'Los Angeles Lakers') & (nba['Position'] == 'C')]"
      ],
      "execution_count": 16,
      "outputs": [
        {
          "output_type": "execute_result",
          "data": {
            "text/html": [
              "<div>\n",
              "<style scoped>\n",
              "    .dataframe tbody tr th:only-of-type {\n",
              "        vertical-align: middle;\n",
              "    }\n",
              "\n",
              "    .dataframe tbody tr th {\n",
              "        vertical-align: top;\n",
              "    }\n",
              "\n",
              "    .dataframe thead th {\n",
              "        text-align: right;\n",
              "    }\n",
              "</style>\n",
              "<table border=\"1\" class=\"dataframe\">\n",
              "  <thead>\n",
              "    <tr style=\"text-align: right;\">\n",
              "      <th></th>\n",
              "      <th>Name</th>\n",
              "      <th>Team</th>\n",
              "      <th>Number</th>\n",
              "      <th>Position</th>\n",
              "      <th>Age</th>\n",
              "      <th>Height</th>\n",
              "      <th>Weight</th>\n",
              "      <th>College</th>\n",
              "      <th>Salary</th>\n",
              "    </tr>\n",
              "  </thead>\n",
              "  <tbody>\n",
              "    <tr>\n",
              "      <th>107</th>\n",
              "      <td>Tarik Black</td>\n",
              "      <td>Los Angeles Lakers</td>\n",
              "      <td>28.0</td>\n",
              "      <td>C</td>\n",
              "      <td>24.0</td>\n",
              "      <td>6-9</td>\n",
              "      <td>250.0</td>\n",
              "      <td>Kansas</td>\n",
              "      <td>845059.0</td>\n",
              "    </tr>\n",
              "    <tr>\n",
              "      <th>111</th>\n",
              "      <td>Roy Hibbert</td>\n",
              "      <td>Los Angeles Lakers</td>\n",
              "      <td>17.0</td>\n",
              "      <td>C</td>\n",
              "      <td>29.0</td>\n",
              "      <td>7-2</td>\n",
              "      <td>270.0</td>\n",
              "      <td>Georgetown</td>\n",
              "      <td>15592217.0</td>\n",
              "    </tr>\n",
              "    <tr>\n",
              "      <th>117</th>\n",
              "      <td>Robert Sacre</td>\n",
              "      <td>Los Angeles Lakers</td>\n",
              "      <td>50.0</td>\n",
              "      <td>C</td>\n",
              "      <td>27.0</td>\n",
              "      <td>7-0</td>\n",
              "      <td>270.0</td>\n",
              "      <td>Gonzaga</td>\n",
              "      <td>981348.0</td>\n",
              "    </tr>\n",
              "  </tbody>\n",
              "</table>\n",
              "</div>"
            ],
            "text/plain": [
              "             Name                Team  Number  ... Weight     College      Salary\n",
              "107   Tarik Black  Los Angeles Lakers    28.0  ...  250.0      Kansas    845059.0\n",
              "111   Roy Hibbert  Los Angeles Lakers    17.0  ...  270.0  Georgetown  15592217.0\n",
              "117  Robert Sacre  Los Angeles Lakers    50.0  ...  270.0     Gonzaga    981348.0\n",
              "\n",
              "[3 rows x 9 columns]"
            ]
          },
          "metadata": {
            "tags": []
          },
          "execution_count": 16
        }
      ]
    },
    {
      "cell_type": "code",
      "metadata": {
        "colab": {
          "base_uri": "https://localhost:8080/",
          "height": 986
        },
        "id": "GpvXIkeu9AFx",
        "outputId": "af150254-60dd-4eab-a234-8da0916601fe"
      },
      "source": [
        "nba.loc[(nba['Team'] == 'Boston Celtics') | (nba['Team'] == 'Philadelphia 76ers')]"
      ],
      "execution_count": 17,
      "outputs": [
        {
          "output_type": "execute_result",
          "data": {
            "text/html": [
              "<div>\n",
              "<style scoped>\n",
              "    .dataframe tbody tr th:only-of-type {\n",
              "        vertical-align: middle;\n",
              "    }\n",
              "\n",
              "    .dataframe tbody tr th {\n",
              "        vertical-align: top;\n",
              "    }\n",
              "\n",
              "    .dataframe thead th {\n",
              "        text-align: right;\n",
              "    }\n",
              "</style>\n",
              "<table border=\"1\" class=\"dataframe\">\n",
              "  <thead>\n",
              "    <tr style=\"text-align: right;\">\n",
              "      <th></th>\n",
              "      <th>Name</th>\n",
              "      <th>Team</th>\n",
              "      <th>Number</th>\n",
              "      <th>Position</th>\n",
              "      <th>Age</th>\n",
              "      <th>Height</th>\n",
              "      <th>Weight</th>\n",
              "      <th>College</th>\n",
              "      <th>Salary</th>\n",
              "    </tr>\n",
              "  </thead>\n",
              "  <tbody>\n",
              "    <tr>\n",
              "      <th>0</th>\n",
              "      <td>Avery Bradley</td>\n",
              "      <td>Boston Celtics</td>\n",
              "      <td>0.0</td>\n",
              "      <td>PG</td>\n",
              "      <td>25.0</td>\n",
              "      <td>6-2</td>\n",
              "      <td>180.0</td>\n",
              "      <td>Texas</td>\n",
              "      <td>7730337.0</td>\n",
              "    </tr>\n",
              "    <tr>\n",
              "      <th>1</th>\n",
              "      <td>Jae Crowder</td>\n",
              "      <td>Boston Celtics</td>\n",
              "      <td>99.0</td>\n",
              "      <td>SF</td>\n",
              "      <td>25.0</td>\n",
              "      <td>6-6</td>\n",
              "      <td>235.0</td>\n",
              "      <td>Marquette</td>\n",
              "      <td>6796117.0</td>\n",
              "    </tr>\n",
              "    <tr>\n",
              "      <th>2</th>\n",
              "      <td>John Holland</td>\n",
              "      <td>Boston Celtics</td>\n",
              "      <td>30.0</td>\n",
              "      <td>SG</td>\n",
              "      <td>27.0</td>\n",
              "      <td>6-5</td>\n",
              "      <td>205.0</td>\n",
              "      <td>Boston University</td>\n",
              "      <td>NaN</td>\n",
              "    </tr>\n",
              "    <tr>\n",
              "      <th>3</th>\n",
              "      <td>R.J. Hunter</td>\n",
              "      <td>Boston Celtics</td>\n",
              "      <td>28.0</td>\n",
              "      <td>SG</td>\n",
              "      <td>22.0</td>\n",
              "      <td>6-5</td>\n",
              "      <td>185.0</td>\n",
              "      <td>Georgia State</td>\n",
              "      <td>1148640.0</td>\n",
              "    </tr>\n",
              "    <tr>\n",
              "      <th>4</th>\n",
              "      <td>Jonas Jerebko</td>\n",
              "      <td>Boston Celtics</td>\n",
              "      <td>8.0</td>\n",
              "      <td>PF</td>\n",
              "      <td>29.0</td>\n",
              "      <td>6-10</td>\n",
              "      <td>231.0</td>\n",
              "      <td>NaN</td>\n",
              "      <td>5000000.0</td>\n",
              "    </tr>\n",
              "    <tr>\n",
              "      <th>5</th>\n",
              "      <td>Amir Johnson</td>\n",
              "      <td>Boston Celtics</td>\n",
              "      <td>90.0</td>\n",
              "      <td>PF</td>\n",
              "      <td>29.0</td>\n",
              "      <td>6-9</td>\n",
              "      <td>240.0</td>\n",
              "      <td>NaN</td>\n",
              "      <td>12000000.0</td>\n",
              "    </tr>\n",
              "    <tr>\n",
              "      <th>6</th>\n",
              "      <td>Jordan Mickey</td>\n",
              "      <td>Boston Celtics</td>\n",
              "      <td>55.0</td>\n",
              "      <td>PF</td>\n",
              "      <td>21.0</td>\n",
              "      <td>6-8</td>\n",
              "      <td>235.0</td>\n",
              "      <td>LSU</td>\n",
              "      <td>1170960.0</td>\n",
              "    </tr>\n",
              "    <tr>\n",
              "      <th>7</th>\n",
              "      <td>Kelly Olynyk</td>\n",
              "      <td>Boston Celtics</td>\n",
              "      <td>41.0</td>\n",
              "      <td>C</td>\n",
              "      <td>25.0</td>\n",
              "      <td>7-0</td>\n",
              "      <td>238.0</td>\n",
              "      <td>Gonzaga</td>\n",
              "      <td>2165160.0</td>\n",
              "    </tr>\n",
              "    <tr>\n",
              "      <th>8</th>\n",
              "      <td>Terry Rozier</td>\n",
              "      <td>Boston Celtics</td>\n",
              "      <td>12.0</td>\n",
              "      <td>PG</td>\n",
              "      <td>22.0</td>\n",
              "      <td>6-2</td>\n",
              "      <td>190.0</td>\n",
              "      <td>Louisville</td>\n",
              "      <td>1824360.0</td>\n",
              "    </tr>\n",
              "    <tr>\n",
              "      <th>9</th>\n",
              "      <td>Marcus Smart</td>\n",
              "      <td>Boston Celtics</td>\n",
              "      <td>36.0</td>\n",
              "      <td>PG</td>\n",
              "      <td>22.0</td>\n",
              "      <td>6-4</td>\n",
              "      <td>220.0</td>\n",
              "      <td>Oklahoma State</td>\n",
              "      <td>3431040.0</td>\n",
              "    </tr>\n",
              "    <tr>\n",
              "      <th>10</th>\n",
              "      <td>Jared Sullinger</td>\n",
              "      <td>Boston Celtics</td>\n",
              "      <td>7.0</td>\n",
              "      <td>C</td>\n",
              "      <td>24.0</td>\n",
              "      <td>6-9</td>\n",
              "      <td>260.0</td>\n",
              "      <td>Ohio State</td>\n",
              "      <td>2569260.0</td>\n",
              "    </tr>\n",
              "    <tr>\n",
              "      <th>11</th>\n",
              "      <td>Isaiah Thomas</td>\n",
              "      <td>Boston Celtics</td>\n",
              "      <td>4.0</td>\n",
              "      <td>PG</td>\n",
              "      <td>27.0</td>\n",
              "      <td>5-9</td>\n",
              "      <td>185.0</td>\n",
              "      <td>Washington</td>\n",
              "      <td>6912869.0</td>\n",
              "    </tr>\n",
              "    <tr>\n",
              "      <th>12</th>\n",
              "      <td>Evan Turner</td>\n",
              "      <td>Boston Celtics</td>\n",
              "      <td>11.0</td>\n",
              "      <td>SG</td>\n",
              "      <td>27.0</td>\n",
              "      <td>6-7</td>\n",
              "      <td>220.0</td>\n",
              "      <td>Ohio State</td>\n",
              "      <td>3425510.0</td>\n",
              "    </tr>\n",
              "    <tr>\n",
              "      <th>13</th>\n",
              "      <td>James Young</td>\n",
              "      <td>Boston Celtics</td>\n",
              "      <td>13.0</td>\n",
              "      <td>SG</td>\n",
              "      <td>20.0</td>\n",
              "      <td>6-6</td>\n",
              "      <td>215.0</td>\n",
              "      <td>Kentucky</td>\n",
              "      <td>1749840.0</td>\n",
              "    </tr>\n",
              "    <tr>\n",
              "      <th>14</th>\n",
              "      <td>Tyler Zeller</td>\n",
              "      <td>Boston Celtics</td>\n",
              "      <td>44.0</td>\n",
              "      <td>C</td>\n",
              "      <td>26.0</td>\n",
              "      <td>7-0</td>\n",
              "      <td>253.0</td>\n",
              "      <td>North Carolina</td>\n",
              "      <td>2616975.0</td>\n",
              "    </tr>\n",
              "    <tr>\n",
              "      <th>46</th>\n",
              "      <td>Elton Brand</td>\n",
              "      <td>Philadelphia 76ers</td>\n",
              "      <td>42.0</td>\n",
              "      <td>PF</td>\n",
              "      <td>37.0</td>\n",
              "      <td>6-9</td>\n",
              "      <td>254.0</td>\n",
              "      <td>Duke</td>\n",
              "      <td>NaN</td>\n",
              "    </tr>\n",
              "    <tr>\n",
              "      <th>47</th>\n",
              "      <td>Isaiah Canaan</td>\n",
              "      <td>Philadelphia 76ers</td>\n",
              "      <td>0.0</td>\n",
              "      <td>PG</td>\n",
              "      <td>25.0</td>\n",
              "      <td>6-0</td>\n",
              "      <td>201.0</td>\n",
              "      <td>Murray State</td>\n",
              "      <td>947276.0</td>\n",
              "    </tr>\n",
              "    <tr>\n",
              "      <th>48</th>\n",
              "      <td>Robert Covington</td>\n",
              "      <td>Philadelphia 76ers</td>\n",
              "      <td>33.0</td>\n",
              "      <td>SF</td>\n",
              "      <td>25.0</td>\n",
              "      <td>6-9</td>\n",
              "      <td>215.0</td>\n",
              "      <td>Tennessee State</td>\n",
              "      <td>1000000.0</td>\n",
              "    </tr>\n",
              "    <tr>\n",
              "      <th>49</th>\n",
              "      <td>Joel Embiid</td>\n",
              "      <td>Philadelphia 76ers</td>\n",
              "      <td>21.0</td>\n",
              "      <td>C</td>\n",
              "      <td>22.0</td>\n",
              "      <td>7-0</td>\n",
              "      <td>250.0</td>\n",
              "      <td>Kansas</td>\n",
              "      <td>4626960.0</td>\n",
              "    </tr>\n",
              "    <tr>\n",
              "      <th>50</th>\n",
              "      <td>Jerami Grant</td>\n",
              "      <td>Philadelphia 76ers</td>\n",
              "      <td>39.0</td>\n",
              "      <td>SF</td>\n",
              "      <td>22.0</td>\n",
              "      <td>6-8</td>\n",
              "      <td>210.0</td>\n",
              "      <td>Syracuse</td>\n",
              "      <td>845059.0</td>\n",
              "    </tr>\n",
              "    <tr>\n",
              "      <th>51</th>\n",
              "      <td>Richaun Holmes</td>\n",
              "      <td>Philadelphia 76ers</td>\n",
              "      <td>22.0</td>\n",
              "      <td>PF</td>\n",
              "      <td>22.0</td>\n",
              "      <td>6-10</td>\n",
              "      <td>245.0</td>\n",
              "      <td>Bowling Green</td>\n",
              "      <td>1074169.0</td>\n",
              "    </tr>\n",
              "    <tr>\n",
              "      <th>52</th>\n",
              "      <td>Carl Landry</td>\n",
              "      <td>Philadelphia 76ers</td>\n",
              "      <td>7.0</td>\n",
              "      <td>PF</td>\n",
              "      <td>32.0</td>\n",
              "      <td>6-9</td>\n",
              "      <td>248.0</td>\n",
              "      <td>Purdue</td>\n",
              "      <td>6500000.0</td>\n",
              "    </tr>\n",
              "    <tr>\n",
              "      <th>53</th>\n",
              "      <td>Kendall Marshall</td>\n",
              "      <td>Philadelphia 76ers</td>\n",
              "      <td>5.0</td>\n",
              "      <td>PG</td>\n",
              "      <td>24.0</td>\n",
              "      <td>6-4</td>\n",
              "      <td>200.0</td>\n",
              "      <td>North Carolina</td>\n",
              "      <td>2144772.0</td>\n",
              "    </tr>\n",
              "    <tr>\n",
              "      <th>54</th>\n",
              "      <td>T.J. McConnell</td>\n",
              "      <td>Philadelphia 76ers</td>\n",
              "      <td>12.0</td>\n",
              "      <td>PG</td>\n",
              "      <td>24.0</td>\n",
              "      <td>6-2</td>\n",
              "      <td>200.0</td>\n",
              "      <td>Arizona</td>\n",
              "      <td>525093.0</td>\n",
              "    </tr>\n",
              "    <tr>\n",
              "      <th>55</th>\n",
              "      <td>Nerlens Noel</td>\n",
              "      <td>Philadelphia 76ers</td>\n",
              "      <td>4.0</td>\n",
              "      <td>PF</td>\n",
              "      <td>22.0</td>\n",
              "      <td>6-11</td>\n",
              "      <td>228.0</td>\n",
              "      <td>Kentucky</td>\n",
              "      <td>3457800.0</td>\n",
              "    </tr>\n",
              "    <tr>\n",
              "      <th>56</th>\n",
              "      <td>Jahlil Okafor</td>\n",
              "      <td>Philadelphia 76ers</td>\n",
              "      <td>8.0</td>\n",
              "      <td>C</td>\n",
              "      <td>20.0</td>\n",
              "      <td>6-11</td>\n",
              "      <td>275.0</td>\n",
              "      <td>Duke</td>\n",
              "      <td>4582680.0</td>\n",
              "    </tr>\n",
              "    <tr>\n",
              "      <th>57</th>\n",
              "      <td>Ish Smith</td>\n",
              "      <td>Philadelphia 76ers</td>\n",
              "      <td>1.0</td>\n",
              "      <td>PG</td>\n",
              "      <td>27.0</td>\n",
              "      <td>6-0</td>\n",
              "      <td>175.0</td>\n",
              "      <td>Wake Forest</td>\n",
              "      <td>947276.0</td>\n",
              "    </tr>\n",
              "    <tr>\n",
              "      <th>58</th>\n",
              "      <td>Nik Stauskas</td>\n",
              "      <td>Philadelphia 76ers</td>\n",
              "      <td>11.0</td>\n",
              "      <td>SG</td>\n",
              "      <td>22.0</td>\n",
              "      <td>6-6</td>\n",
              "      <td>205.0</td>\n",
              "      <td>Michigan</td>\n",
              "      <td>2869440.0</td>\n",
              "    </tr>\n",
              "    <tr>\n",
              "      <th>59</th>\n",
              "      <td>Hollis Thompson</td>\n",
              "      <td>Philadelphia 76ers</td>\n",
              "      <td>31.0</td>\n",
              "      <td>SG</td>\n",
              "      <td>25.0</td>\n",
              "      <td>6-8</td>\n",
              "      <td>206.0</td>\n",
              "      <td>Georgetown</td>\n",
              "      <td>947276.0</td>\n",
              "    </tr>\n",
              "    <tr>\n",
              "      <th>60</th>\n",
              "      <td>Christian Wood</td>\n",
              "      <td>Philadelphia 76ers</td>\n",
              "      <td>35.0</td>\n",
              "      <td>PF</td>\n",
              "      <td>20.0</td>\n",
              "      <td>6-11</td>\n",
              "      <td>220.0</td>\n",
              "      <td>UNLV</td>\n",
              "      <td>525093.0</td>\n",
              "    </tr>\n",
              "  </tbody>\n",
              "</table>\n",
              "</div>"
            ],
            "text/plain": [
              "                Name                Team  ...            College      Salary\n",
              "0      Avery Bradley      Boston Celtics  ...              Texas   7730337.0\n",
              "1        Jae Crowder      Boston Celtics  ...          Marquette   6796117.0\n",
              "2       John Holland      Boston Celtics  ...  Boston University         NaN\n",
              "3        R.J. Hunter      Boston Celtics  ...      Georgia State   1148640.0\n",
              "4      Jonas Jerebko      Boston Celtics  ...                NaN   5000000.0\n",
              "5       Amir Johnson      Boston Celtics  ...                NaN  12000000.0\n",
              "6      Jordan Mickey      Boston Celtics  ...                LSU   1170960.0\n",
              "7       Kelly Olynyk      Boston Celtics  ...            Gonzaga   2165160.0\n",
              "8       Terry Rozier      Boston Celtics  ...         Louisville   1824360.0\n",
              "9       Marcus Smart      Boston Celtics  ...     Oklahoma State   3431040.0\n",
              "10   Jared Sullinger      Boston Celtics  ...         Ohio State   2569260.0\n",
              "11     Isaiah Thomas      Boston Celtics  ...         Washington   6912869.0\n",
              "12       Evan Turner      Boston Celtics  ...         Ohio State   3425510.0\n",
              "13       James Young      Boston Celtics  ...           Kentucky   1749840.0\n",
              "14      Tyler Zeller      Boston Celtics  ...     North Carolina   2616975.0\n",
              "46       Elton Brand  Philadelphia 76ers  ...               Duke         NaN\n",
              "47     Isaiah Canaan  Philadelphia 76ers  ...       Murray State    947276.0\n",
              "48  Robert Covington  Philadelphia 76ers  ...    Tennessee State   1000000.0\n",
              "49       Joel Embiid  Philadelphia 76ers  ...             Kansas   4626960.0\n",
              "50      Jerami Grant  Philadelphia 76ers  ...           Syracuse    845059.0\n",
              "51    Richaun Holmes  Philadelphia 76ers  ...      Bowling Green   1074169.0\n",
              "52       Carl Landry  Philadelphia 76ers  ...             Purdue   6500000.0\n",
              "53  Kendall Marshall  Philadelphia 76ers  ...     North Carolina   2144772.0\n",
              "54    T.J. McConnell  Philadelphia 76ers  ...            Arizona    525093.0\n",
              "55      Nerlens Noel  Philadelphia 76ers  ...           Kentucky   3457800.0\n",
              "56     Jahlil Okafor  Philadelphia 76ers  ...               Duke   4582680.0\n",
              "57         Ish Smith  Philadelphia 76ers  ...        Wake Forest    947276.0\n",
              "58      Nik Stauskas  Philadelphia 76ers  ...           Michigan   2869440.0\n",
              "59   Hollis Thompson  Philadelphia 76ers  ...         Georgetown    947276.0\n",
              "60    Christian Wood  Philadelphia 76ers  ...               UNLV    525093.0\n",
              "\n",
              "[30 rows x 9 columns]"
            ]
          },
          "metadata": {
            "tags": []
          },
          "execution_count": 17
        }
      ]
    },
    {
      "cell_type": "code",
      "metadata": {
        "colab": {
          "base_uri": "https://localhost:8080/",
          "height": 393
        },
        "id": "KDopt-SOBVx_",
        "outputId": "c0b6cc4c-4a1f-474d-98ee-896366cfd1cb"
      },
      "source": [
        "nba.loc[(nba['Team'] == 'Miami Heat') & (nba['Age'] > 25)]"
      ],
      "execution_count": 18,
      "outputs": [
        {
          "output_type": "execute_result",
          "data": {
            "text/html": [
              "<div>\n",
              "<style scoped>\n",
              "    .dataframe tbody tr th:only-of-type {\n",
              "        vertical-align: middle;\n",
              "    }\n",
              "\n",
              "    .dataframe tbody tr th {\n",
              "        vertical-align: top;\n",
              "    }\n",
              "\n",
              "    .dataframe thead th {\n",
              "        text-align: right;\n",
              "    }\n",
              "</style>\n",
              "<table border=\"1\" class=\"dataframe\">\n",
              "  <thead>\n",
              "    <tr style=\"text-align: right;\">\n",
              "      <th></th>\n",
              "      <th>Name</th>\n",
              "      <th>Team</th>\n",
              "      <th>Number</th>\n",
              "      <th>Position</th>\n",
              "      <th>Age</th>\n",
              "      <th>Height</th>\n",
              "      <th>Weight</th>\n",
              "      <th>College</th>\n",
              "      <th>Salary</th>\n",
              "    </tr>\n",
              "  </thead>\n",
              "  <tbody>\n",
              "    <tr>\n",
              "      <th>339</th>\n",
              "      <td>Chris Bosh</td>\n",
              "      <td>Miami Heat</td>\n",
              "      <td>1.0</td>\n",
              "      <td>PF</td>\n",
              "      <td>32.0</td>\n",
              "      <td>6-11</td>\n",
              "      <td>235.0</td>\n",
              "      <td>Georgia Tech</td>\n",
              "      <td>22192730.0</td>\n",
              "    </tr>\n",
              "    <tr>\n",
              "      <th>340</th>\n",
              "      <td>Luol Deng</td>\n",
              "      <td>Miami Heat</td>\n",
              "      <td>9.0</td>\n",
              "      <td>SF</td>\n",
              "      <td>31.0</td>\n",
              "      <td>6-9</td>\n",
              "      <td>220.0</td>\n",
              "      <td>Duke</td>\n",
              "      <td>10151612.0</td>\n",
              "    </tr>\n",
              "    <tr>\n",
              "      <th>341</th>\n",
              "      <td>Goran Dragic</td>\n",
              "      <td>Miami Heat</td>\n",
              "      <td>7.0</td>\n",
              "      <td>PG</td>\n",
              "      <td>30.0</td>\n",
              "      <td>6-3</td>\n",
              "      <td>190.0</td>\n",
              "      <td>NaN</td>\n",
              "      <td>14783000.0</td>\n",
              "    </tr>\n",
              "    <tr>\n",
              "      <th>342</th>\n",
              "      <td>Gerald Green</td>\n",
              "      <td>Miami Heat</td>\n",
              "      <td>14.0</td>\n",
              "      <td>SF</td>\n",
              "      <td>30.0</td>\n",
              "      <td>6-7</td>\n",
              "      <td>205.0</td>\n",
              "      <td>NaN</td>\n",
              "      <td>947276.0</td>\n",
              "    </tr>\n",
              "    <tr>\n",
              "      <th>343</th>\n",
              "      <td>Udonis Haslem</td>\n",
              "      <td>Miami Heat</td>\n",
              "      <td>40.0</td>\n",
              "      <td>PF</td>\n",
              "      <td>36.0</td>\n",
              "      <td>6-8</td>\n",
              "      <td>235.0</td>\n",
              "      <td>Florida</td>\n",
              "      <td>2854940.0</td>\n",
              "    </tr>\n",
              "    <tr>\n",
              "      <th>344</th>\n",
              "      <td>Joe Johnson</td>\n",
              "      <td>Miami Heat</td>\n",
              "      <td>2.0</td>\n",
              "      <td>SF</td>\n",
              "      <td>34.0</td>\n",
              "      <td>6-7</td>\n",
              "      <td>240.0</td>\n",
              "      <td>Arkansas</td>\n",
              "      <td>261894.0</td>\n",
              "    </tr>\n",
              "    <tr>\n",
              "      <th>346</th>\n",
              "      <td>Josh McRoberts</td>\n",
              "      <td>Miami Heat</td>\n",
              "      <td>4.0</td>\n",
              "      <td>PF</td>\n",
              "      <td>29.0</td>\n",
              "      <td>6-10</td>\n",
              "      <td>240.0</td>\n",
              "      <td>Duke</td>\n",
              "      <td>5543725.0</td>\n",
              "    </tr>\n",
              "    <tr>\n",
              "      <th>348</th>\n",
              "      <td>Amar'e Stoudemire</td>\n",
              "      <td>Miami Heat</td>\n",
              "      <td>5.0</td>\n",
              "      <td>PF</td>\n",
              "      <td>33.0</td>\n",
              "      <td>6-10</td>\n",
              "      <td>245.0</td>\n",
              "      <td>NaN</td>\n",
              "      <td>947276.0</td>\n",
              "    </tr>\n",
              "    <tr>\n",
              "      <th>349</th>\n",
              "      <td>Dwyane Wade</td>\n",
              "      <td>Miami Heat</td>\n",
              "      <td>3.0</td>\n",
              "      <td>SG</td>\n",
              "      <td>34.0</td>\n",
              "      <td>6-4</td>\n",
              "      <td>220.0</td>\n",
              "      <td>Marquette</td>\n",
              "      <td>20000000.0</td>\n",
              "    </tr>\n",
              "    <tr>\n",
              "      <th>351</th>\n",
              "      <td>Hassan Whiteside</td>\n",
              "      <td>Miami Heat</td>\n",
              "      <td>21.0</td>\n",
              "      <td>C</td>\n",
              "      <td>26.0</td>\n",
              "      <td>7-0</td>\n",
              "      <td>265.0</td>\n",
              "      <td>Marshall</td>\n",
              "      <td>981348.0</td>\n",
              "    </tr>\n",
              "    <tr>\n",
              "      <th>353</th>\n",
              "      <td>Dorell Wright</td>\n",
              "      <td>Miami Heat</td>\n",
              "      <td>11.0</td>\n",
              "      <td>SF</td>\n",
              "      <td>30.0</td>\n",
              "      <td>6-9</td>\n",
              "      <td>205.0</td>\n",
              "      <td>NaN</td>\n",
              "      <td>NaN</td>\n",
              "    </tr>\n",
              "  </tbody>\n",
              "</table>\n",
              "</div>"
            ],
            "text/plain": [
              "                  Name        Team  Number  ... Weight       College      Salary\n",
              "339         Chris Bosh  Miami Heat     1.0  ...  235.0  Georgia Tech  22192730.0\n",
              "340          Luol Deng  Miami Heat     9.0  ...  220.0          Duke  10151612.0\n",
              "341       Goran Dragic  Miami Heat     7.0  ...  190.0           NaN  14783000.0\n",
              "342       Gerald Green  Miami Heat    14.0  ...  205.0           NaN    947276.0\n",
              "343      Udonis Haslem  Miami Heat    40.0  ...  235.0       Florida   2854940.0\n",
              "344        Joe Johnson  Miami Heat     2.0  ...  240.0      Arkansas    261894.0\n",
              "346     Josh McRoberts  Miami Heat     4.0  ...  240.0          Duke   5543725.0\n",
              "348  Amar'e Stoudemire  Miami Heat     5.0  ...  245.0           NaN    947276.0\n",
              "349        Dwyane Wade  Miami Heat     3.0  ...  220.0     Marquette  20000000.0\n",
              "351   Hassan Whiteside  Miami Heat    21.0  ...  265.0      Marshall    981348.0\n",
              "353      Dorell Wright  Miami Heat    11.0  ...  205.0           NaN         NaN\n",
              "\n",
              "[11 rows x 9 columns]"
            ]
          },
          "metadata": {
            "tags": []
          },
          "execution_count": 18
        }
      ]
    },
    {
      "cell_type": "code",
      "metadata": {
        "id": "Jwukef2AB9ZC"
      },
      "source": [
        "import matplotlib.pyplot as plt\n",
        "import seaborn as sns\n",
        "sns.set()"
      ],
      "execution_count": 19,
      "outputs": []
    },
    {
      "cell_type": "code",
      "metadata": {
        "id": "FAiIDkumEVlu"
      },
      "source": [
        "nba.dropna(inplace=True)"
      ],
      "execution_count": 20,
      "outputs": []
    },
    {
      "cell_type": "code",
      "metadata": {
        "colab": {
          "base_uri": "https://localhost:8080/",
          "height": 205
        },
        "id": "OFMyEruNEeOa",
        "outputId": "3b26aea3-1492-4ff5-9ce7-dda1a9b47fbf"
      },
      "source": [
        "nba.head()"
      ],
      "execution_count": 21,
      "outputs": [
        {
          "output_type": "execute_result",
          "data": {
            "text/html": [
              "<div>\n",
              "<style scoped>\n",
              "    .dataframe tbody tr th:only-of-type {\n",
              "        vertical-align: middle;\n",
              "    }\n",
              "\n",
              "    .dataframe tbody tr th {\n",
              "        vertical-align: top;\n",
              "    }\n",
              "\n",
              "    .dataframe thead th {\n",
              "        text-align: right;\n",
              "    }\n",
              "</style>\n",
              "<table border=\"1\" class=\"dataframe\">\n",
              "  <thead>\n",
              "    <tr style=\"text-align: right;\">\n",
              "      <th></th>\n",
              "      <th>Name</th>\n",
              "      <th>Team</th>\n",
              "      <th>Number</th>\n",
              "      <th>Position</th>\n",
              "      <th>Age</th>\n",
              "      <th>Height</th>\n",
              "      <th>Weight</th>\n",
              "      <th>College</th>\n",
              "      <th>Salary</th>\n",
              "    </tr>\n",
              "  </thead>\n",
              "  <tbody>\n",
              "    <tr>\n",
              "      <th>0</th>\n",
              "      <td>Avery Bradley</td>\n",
              "      <td>Boston Celtics</td>\n",
              "      <td>0.0</td>\n",
              "      <td>PG</td>\n",
              "      <td>25.0</td>\n",
              "      <td>6-2</td>\n",
              "      <td>180.0</td>\n",
              "      <td>Texas</td>\n",
              "      <td>7730337.0</td>\n",
              "    </tr>\n",
              "    <tr>\n",
              "      <th>1</th>\n",
              "      <td>Jae Crowder</td>\n",
              "      <td>Boston Celtics</td>\n",
              "      <td>99.0</td>\n",
              "      <td>SF</td>\n",
              "      <td>25.0</td>\n",
              "      <td>6-6</td>\n",
              "      <td>235.0</td>\n",
              "      <td>Marquette</td>\n",
              "      <td>6796117.0</td>\n",
              "    </tr>\n",
              "    <tr>\n",
              "      <th>3</th>\n",
              "      <td>R.J. Hunter</td>\n",
              "      <td>Boston Celtics</td>\n",
              "      <td>28.0</td>\n",
              "      <td>SG</td>\n",
              "      <td>22.0</td>\n",
              "      <td>6-5</td>\n",
              "      <td>185.0</td>\n",
              "      <td>Georgia State</td>\n",
              "      <td>1148640.0</td>\n",
              "    </tr>\n",
              "    <tr>\n",
              "      <th>6</th>\n",
              "      <td>Jordan Mickey</td>\n",
              "      <td>Boston Celtics</td>\n",
              "      <td>55.0</td>\n",
              "      <td>PF</td>\n",
              "      <td>21.0</td>\n",
              "      <td>6-8</td>\n",
              "      <td>235.0</td>\n",
              "      <td>LSU</td>\n",
              "      <td>1170960.0</td>\n",
              "    </tr>\n",
              "    <tr>\n",
              "      <th>7</th>\n",
              "      <td>Kelly Olynyk</td>\n",
              "      <td>Boston Celtics</td>\n",
              "      <td>41.0</td>\n",
              "      <td>C</td>\n",
              "      <td>25.0</td>\n",
              "      <td>7-0</td>\n",
              "      <td>238.0</td>\n",
              "      <td>Gonzaga</td>\n",
              "      <td>2165160.0</td>\n",
              "    </tr>\n",
              "  </tbody>\n",
              "</table>\n",
              "</div>"
            ],
            "text/plain": [
              "            Name            Team  Number  ... Weight        College     Salary\n",
              "0  Avery Bradley  Boston Celtics     0.0  ...  180.0          Texas  7730337.0\n",
              "1    Jae Crowder  Boston Celtics    99.0  ...  235.0      Marquette  6796117.0\n",
              "3    R.J. Hunter  Boston Celtics    28.0  ...  185.0  Georgia State  1148640.0\n",
              "6  Jordan Mickey  Boston Celtics    55.0  ...  235.0            LSU  1170960.0\n",
              "7   Kelly Olynyk  Boston Celtics    41.0  ...  238.0        Gonzaga  2165160.0\n",
              "\n",
              "[5 rows x 9 columns]"
            ]
          },
          "metadata": {
            "tags": []
          },
          "execution_count": 21
        }
      ]
    },
    {
      "cell_type": "code",
      "metadata": {
        "colab": {
          "base_uri": "https://localhost:8080/",
          "height": 362
        },
        "id": "4SPobgMgJp1f",
        "outputId": "65f3ae72-61fe-4d6a-9f8c-8e51eff3e850"
      },
      "source": [
        "team_salary = nba.groupby('Team', as_index = False)['Salary'].sum().sort_values(by = 'Salary', ascending = False)[:10]\n",
        "team_salary"
      ],
      "execution_count": 22,
      "outputs": [
        {
          "output_type": "execute_result",
          "data": {
            "text/html": [
              "<div>\n",
              "<style scoped>\n",
              "    .dataframe tbody tr th:only-of-type {\n",
              "        vertical-align: middle;\n",
              "    }\n",
              "\n",
              "    .dataframe tbody tr th {\n",
              "        vertical-align: top;\n",
              "    }\n",
              "\n",
              "    .dataframe thead th {\n",
              "        text-align: right;\n",
              "    }\n",
              "</style>\n",
              "<table border=\"1\" class=\"dataframe\">\n",
              "  <thead>\n",
              "    <tr style=\"text-align: right;\">\n",
              "      <th></th>\n",
              "      <th>Team</th>\n",
              "      <th>Salary</th>\n",
              "    </tr>\n",
              "  </thead>\n",
              "  <tbody>\n",
              "    <tr>\n",
              "      <th>12</th>\n",
              "      <td>Los Angeles Clippers</td>\n",
              "      <td>93906914.0</td>\n",
              "    </tr>\n",
              "    <tr>\n",
              "      <th>20</th>\n",
              "      <td>Oklahoma City Thunder</td>\n",
              "      <td>81515298.0</td>\n",
              "    </tr>\n",
              "    <tr>\n",
              "      <th>9</th>\n",
              "      <td>Golden State Warriors</td>\n",
              "      <td>80535517.0</td>\n",
              "    </tr>\n",
              "    <tr>\n",
              "      <th>5</th>\n",
              "      <td>Cleveland Cavaliers</td>\n",
              "      <td>74068189.0</td>\n",
              "    </tr>\n",
              "    <tr>\n",
              "      <th>4</th>\n",
              "      <td>Chicago Bulls</td>\n",
              "      <td>73265800.0</td>\n",
              "    </tr>\n",
              "    <tr>\n",
              "      <th>18</th>\n",
              "      <td>New Orleans Pelicans</td>\n",
              "      <td>68200408.0</td>\n",
              "    </tr>\n",
              "    <tr>\n",
              "      <th>8</th>\n",
              "      <td>Detroit Pistons</td>\n",
              "      <td>67168263.0</td>\n",
              "    </tr>\n",
              "    <tr>\n",
              "      <th>16</th>\n",
              "      <td>Milwaukee Bucks</td>\n",
              "      <td>66794557.0</td>\n",
              "    </tr>\n",
              "    <tr>\n",
              "      <th>15</th>\n",
              "      <td>Miami Heat</td>\n",
              "      <td>65838121.0</td>\n",
              "    </tr>\n",
              "    <tr>\n",
              "      <th>25</th>\n",
              "      <td>Sacramento Kings</td>\n",
              "      <td>62786874.0</td>\n",
              "    </tr>\n",
              "  </tbody>\n",
              "</table>\n",
              "</div>"
            ],
            "text/plain": [
              "                     Team      Salary\n",
              "12   Los Angeles Clippers  93906914.0\n",
              "20  Oklahoma City Thunder  81515298.0\n",
              "9   Golden State Warriors  80535517.0\n",
              "5     Cleveland Cavaliers  74068189.0\n",
              "4           Chicago Bulls  73265800.0\n",
              "18   New Orleans Pelicans  68200408.0\n",
              "8         Detroit Pistons  67168263.0\n",
              "16        Milwaukee Bucks  66794557.0\n",
              "15             Miami Heat  65838121.0\n",
              "25       Sacramento Kings  62786874.0"
            ]
          },
          "metadata": {
            "tags": []
          },
          "execution_count": 22
        }
      ]
    },
    {
      "cell_type": "code",
      "metadata": {
        "colab": {
          "base_uri": "https://localhost:8080/",
          "height": 508
        },
        "id": "D9j_f3auNNGH",
        "outputId": "31cf7e62-3595-4c1a-fd36-1fc484c2136a"
      },
      "source": [
        "sns.catplot(x = 'Team', y = 'Salary', kind = 'bar', data = team_salary)\n",
        "plt.title('Equipos con mejores salarios')\n",
        "plt.xticks(rotation = 90);"
      ],
      "execution_count": 36,
      "outputs": [
        {
          "output_type": "display_data",
          "data": {
            "image/png": "[encoded data removed]",
            "text/plain": [
              "<Figure size 360x360 with 1 Axes>"
            ]
          },
          "metadata": {
            "tags": []
          }
        }
      ]
    },
    {
      "cell_type": "code",
      "metadata": {
        "colab": {
          "base_uri": "https://localhost:8080/"
        },
        "id": "K7RL-PjCOhYD",
        "outputId": "bdab9651-260b-4ef3-cba3-77ec6cfb8d9a"
      },
      "source": [
        "pd.cut(nba.Age, 3, labels= ['young', 'medium', 'old'])"
      ],
      "execution_count": 24,
      "outputs": [
        {
          "output_type": "execute_result",
          "data": {
            "text/plain": [
              "0      young\n",
              "1      young\n",
              "3      young\n",
              "6      young\n",
              "7      young\n",
              "       ...  \n",
              "449    young\n",
              "451    young\n",
              "452    young\n",
              "453    young\n",
              "456    young\n",
              "Name: Age, Length: 364, dtype: category\n",
              "Categories (3, object): ['young' < 'medium' < 'old']"
            ]
          },
          "metadata": {
            "tags": []
          },
          "execution_count": 24
        }
      ]
    },
    {
      "cell_type": "code",
      "metadata": {
        "id": "z9BVwby8O7a4"
      },
      "source": [
        "nba['Age_Group'] = pd.cut(nba.Age, 3, labels= ['young', 'medium', 'old'])"
      ],
      "execution_count": 25,
      "outputs": []
    },
    {
      "cell_type": "code",
      "metadata": {
        "colab": {
          "base_uri": "https://localhost:8080/",
          "height": 398
        },
        "id": "6SUWSdC1PD4W",
        "outputId": "d6f8df14-999a-4808-833c-ef81fc314f4b"
      },
      "source": [
        "sns.catplot(data = nba, x = 'Age_Group', kind = 'count', hue = 'Position')\n",
        "plt.title('Jugadores por categoria de edad y posición');"
      ],
      "execution_count": 37,
      "outputs": [
        {
          "output_type": "display_data",
          "data": {
            "image/png": "[encoded data removed]",
            "text/plain": [
              "<Figure size 415.55x360 with 1 Axes>"
            ]
          },
          "metadata": {
            "tags": []
          }
        }
      ]
    },
    {
      "cell_type": "code",
      "metadata": {
        "colab": {
          "base_uri": "https://localhost:8080/",
          "height": 301
        },
        "id": "737cvEiGSSC7",
        "outputId": "2bbf50f1-4b64-417d-e181-8648c6e632b9"
      },
      "source": [
        "sns.boxplot(data = nba, x = 'Position', y = 'Salary')\n",
        "plt.title('Distribución de Salario por posición');"
      ],
      "execution_count": 38,
      "outputs": [
        {
          "output_type": "display_data",
          "data": {
            "image/png": "[encoded data removed]",
            "text/plain": [
              "<Figure size 432x288 with 1 Axes>"
            ]
          },
          "metadata": {
            "tags": []
          }
        }
      ]
    },
    {
      "cell_type": "code",
      "metadata": {
        "colab": {
          "base_uri": "https://localhost:8080/",
          "height": 387
        },
        "id": "9ZptD5kMS7gZ",
        "outputId": "673dc86a-06f3-4e4c-bb61-d47e46fff4a7"
      },
      "source": [
        "sns.catplot(data = nba, x = 'Age_Group', y = 'Salary', kind= 'box')\n",
        "plt.title('Distribución de salario por edad');"
      ],
      "execution_count": 39,
      "outputs": [
        {
          "output_type": "display_data",
          "data": {
            "image/png": "[encoded data removed]",
            "text/plain": [
              "<Figure size 360x360 with 1 Axes>"
            ]
          },
          "metadata": {
            "tags": []
          }
        }
      ]
    },
    {
      "cell_type": "code",
      "metadata": {
        "colab": {
          "base_uri": "https://localhost:8080/",
          "height": 350
        },
        "id": "JTiX1w2DTZJf",
        "outputId": "d371e846-cb35-4c89-9e95-3873561c6cfe"
      },
      "source": [
        "fig, axs = plt.subplots(1,2, sharey=True, figsize = (10,5))\n",
        "\n",
        "sns.boxplot(data = nba, x = 'Position', y = 'Salary', ax = axs[0])\n",
        "sns.boxplot(data = nba, x = 'Age_Group', y = 'Salary', ax = axs[1]);"
      ],
      "execution_count": 29,
      "outputs": [
        {
          "output_type": "display_data",
          "data": {
            "image/png": "[encoded data removed]",
            "text/plain": [
              "<Figure size 720x360 with 2 Axes>"
            ]
          },
          "metadata": {
            "tags": []
          }
        }
      ]
    },
    {
      "cell_type": "code",
      "metadata": {
        "colab": {
          "base_uri": "https://localhost:8080/",
          "height": 422
        },
        "id": "xp1cPY1zXV5B",
        "outputId": "c0de4ac9-a13b-4071-bfff-d30cacc6a087"
      },
      "source": [
        "filtered_data = nba.loc[nba.Team.isin(team_salary.Team)]\n",
        "filtered_data"
      ],
      "execution_count": 30,
      "outputs": [
        {
          "output_type": "execute_result",
          "data": {
            "text/html": [
              "<div>\n",
              "<style scoped>\n",
              "    .dataframe tbody tr th:only-of-type {\n",
              "        vertical-align: middle;\n",
              "    }\n",
              "\n",
              "    .dataframe tbody tr th {\n",
              "        vertical-align: top;\n",
              "    }\n",
              "\n",
              "    .dataframe thead th {\n",
              "        text-align: right;\n",
              "    }\n",
              "</style>\n",
              "<table border=\"1\" class=\"dataframe\">\n",
              "  <thead>\n",
              "    <tr style=\"text-align: right;\">\n",
              "      <th></th>\n",
              "      <th>Name</th>\n",
              "      <th>Team</th>\n",
              "      <th>Number</th>\n",
              "      <th>Position</th>\n",
              "      <th>Age</th>\n",
              "      <th>Height</th>\n",
              "      <th>Weight</th>\n",
              "      <th>College</th>\n",
              "      <th>Salary</th>\n",
              "      <th>Age_Group</th>\n",
              "    </tr>\n",
              "  </thead>\n",
              "  <tbody>\n",
              "    <tr>\n",
              "      <th>77</th>\n",
              "      <td>Harrison Barnes</td>\n",
              "      <td>Golden State Warriors</td>\n",
              "      <td>40.0</td>\n",
              "      <td>SF</td>\n",
              "      <td>24.0</td>\n",
              "      <td>6-8</td>\n",
              "      <td>225.0</td>\n",
              "      <td>North Carolina</td>\n",
              "      <td>3873398.0</td>\n",
              "      <td>young</td>\n",
              "    </tr>\n",
              "    <tr>\n",
              "      <th>78</th>\n",
              "      <td>Andrew Bogut</td>\n",
              "      <td>Golden State Warriors</td>\n",
              "      <td>12.0</td>\n",
              "      <td>C</td>\n",
              "      <td>31.0</td>\n",
              "      <td>7-0</td>\n",
              "      <td>260.0</td>\n",
              "      <td>Utah</td>\n",
              "      <td>13800000.0</td>\n",
              "      <td>medium</td>\n",
              "    </tr>\n",
              "    <tr>\n",
              "      <th>79</th>\n",
              "      <td>Ian Clark</td>\n",
              "      <td>Golden State Warriors</td>\n",
              "      <td>21.0</td>\n",
              "      <td>SG</td>\n",
              "      <td>25.0</td>\n",
              "      <td>6-3</td>\n",
              "      <td>175.0</td>\n",
              "      <td>Belmont</td>\n",
              "      <td>947276.0</td>\n",
              "      <td>young</td>\n",
              "    </tr>\n",
              "    <tr>\n",
              "      <th>80</th>\n",
              "      <td>Stephen Curry</td>\n",
              "      <td>Golden State Warriors</td>\n",
              "      <td>30.0</td>\n",
              "      <td>PG</td>\n",
              "      <td>28.0</td>\n",
              "      <td>6-3</td>\n",
              "      <td>190.0</td>\n",
              "      <td>Davidson</td>\n",
              "      <td>11370786.0</td>\n",
              "      <td>medium</td>\n",
              "    </tr>\n",
              "    <tr>\n",
              "      <th>81</th>\n",
              "      <td>Festus Ezeli</td>\n",
              "      <td>Golden State Warriors</td>\n",
              "      <td>31.0</td>\n",
              "      <td>C</td>\n",
              "      <td>26.0</td>\n",
              "      <td>6-11</td>\n",
              "      <td>265.0</td>\n",
              "      <td>Vanderbilt</td>\n",
              "      <td>2008748.0</td>\n",
              "      <td>young</td>\n",
              "    </tr>\n",
              "    <tr>\n",
              "      <th>...</th>\n",
              "      <td>...</td>\n",
              "      <td>...</td>\n",
              "      <td>...</td>\n",
              "      <td>...</td>\n",
              "      <td>...</td>\n",
              "      <td>...</td>\n",
              "      <td>...</td>\n",
              "      <td>...</td>\n",
              "      <td>...</td>\n",
              "      <td>...</td>\n",
              "    </tr>\n",
              "    <tr>\n",
              "      <th>422</th>\n",
              "      <td>Cameron Payne</td>\n",
              "      <td>Oklahoma City Thunder</td>\n",
              "      <td>22.0</td>\n",
              "      <td>PG</td>\n",
              "      <td>21.0</td>\n",
              "      <td>6-3</td>\n",
              "      <td>185.0</td>\n",
              "      <td>Murray State</td>\n",
              "      <td>2021520.0</td>\n",
              "      <td>young</td>\n",
              "    </tr>\n",
              "    <tr>\n",
              "      <th>423</th>\n",
              "      <td>Andre Roberson</td>\n",
              "      <td>Oklahoma City Thunder</td>\n",
              "      <td>21.0</td>\n",
              "      <td>SG</td>\n",
              "      <td>24.0</td>\n",
              "      <td>6-7</td>\n",
              "      <td>210.0</td>\n",
              "      <td>Colorado</td>\n",
              "      <td>1210800.0</td>\n",
              "      <td>young</td>\n",
              "    </tr>\n",
              "    <tr>\n",
              "      <th>424</th>\n",
              "      <td>Kyle Singler</td>\n",
              "      <td>Oklahoma City Thunder</td>\n",
              "      <td>5.0</td>\n",
              "      <td>SF</td>\n",
              "      <td>28.0</td>\n",
              "      <td>6-8</td>\n",
              "      <td>228.0</td>\n",
              "      <td>Duke</td>\n",
              "      <td>4500000.0</td>\n",
              "      <td>medium</td>\n",
              "    </tr>\n",
              "    <tr>\n",
              "      <th>425</th>\n",
              "      <td>Dion Waiters</td>\n",
              "      <td>Oklahoma City Thunder</td>\n",
              "      <td>3.0</td>\n",
              "      <td>SG</td>\n",
              "      <td>24.0</td>\n",
              "      <td>6-4</td>\n",
              "      <td>220.0</td>\n",
              "      <td>Syracuse</td>\n",
              "      <td>5138430.0</td>\n",
              "      <td>young</td>\n",
              "    </tr>\n",
              "    <tr>\n",
              "      <th>426</th>\n",
              "      <td>Russell Westbrook</td>\n",
              "      <td>Oklahoma City Thunder</td>\n",
              "      <td>0.0</td>\n",
              "      <td>PG</td>\n",
              "      <td>27.0</td>\n",
              "      <td>6-3</td>\n",
              "      <td>200.0</td>\n",
              "      <td>UCLA</td>\n",
              "      <td>16744218.0</td>\n",
              "      <td>medium</td>\n",
              "    </tr>\n",
              "  </tbody>\n",
              "</table>\n",
              "<p>131 rows × 10 columns</p>\n",
              "</div>"
            ],
            "text/plain": [
              "                  Name                   Team  ...      Salary Age_Group\n",
              "77     Harrison Barnes  Golden State Warriors  ...   3873398.0     young\n",
              "78        Andrew Bogut  Golden State Warriors  ...  13800000.0    medium\n",
              "79           Ian Clark  Golden State Warriors  ...    947276.0     young\n",
              "80       Stephen Curry  Golden State Warriors  ...  11370786.0    medium\n",
              "81        Festus Ezeli  Golden State Warriors  ...   2008748.0     young\n",
              "..                 ...                    ...  ...         ...       ...\n",
              "422      Cameron Payne  Oklahoma City Thunder  ...   2021520.0     young\n",
              "423     Andre Roberson  Oklahoma City Thunder  ...   1210800.0     young\n",
              "424       Kyle Singler  Oklahoma City Thunder  ...   4500000.0    medium\n",
              "425       Dion Waiters  Oklahoma City Thunder  ...   5138430.0     young\n",
              "426  Russell Westbrook  Oklahoma City Thunder  ...  16744218.0    medium\n",
              "\n",
              "[131 rows x 10 columns]"
            ]
          },
          "metadata": {
            "tags": []
          },
          "execution_count": 30
        }
      ]
    },
    {
      "cell_type": "code",
      "metadata": {
        "colab": {
          "base_uri": "https://localhost:8080/",
          "height": 393
        },
        "id": "Midx1RCaYIyw",
        "outputId": "a2da3ef2-c20a-4d73-dbc1-b1769e9903ff"
      },
      "source": [
        "table = filtered_data.pivot_table('Salary', index = 'Team', columns= 'Position')\n",
        "table"
      ],
      "execution_count": 31,
      "outputs": [
        {
          "output_type": "execute_result",
          "data": {
            "text/html": [
              "<div>\n",
              "<style scoped>\n",
              "    .dataframe tbody tr th:only-of-type {\n",
              "        vertical-align: middle;\n",
              "    }\n",
              "\n",
              "    .dataframe tbody tr th {\n",
              "        vertical-align: top;\n",
              "    }\n",
              "\n",
              "    .dataframe thead th {\n",
              "        text-align: right;\n",
              "    }\n",
              "</style>\n",
              "<table border=\"1\" class=\"dataframe\">\n",
              "  <thead>\n",
              "    <tr style=\"text-align: right;\">\n",
              "      <th>Position</th>\n",
              "      <th>C</th>\n",
              "      <th>PF</th>\n",
              "      <th>PG</th>\n",
              "      <th>SF</th>\n",
              "      <th>SG</th>\n",
              "    </tr>\n",
              "    <tr>\n",
              "      <th>Team</th>\n",
              "      <th></th>\n",
              "      <th></th>\n",
              "      <th></th>\n",
              "      <th></th>\n",
              "      <th></th>\n",
              "    </tr>\n",
              "  </thead>\n",
              "  <tbody>\n",
              "    <tr>\n",
              "      <th>Chicago Bulls</th>\n",
              "      <td>1.340000e+07</td>\n",
              "      <td>3.578740e+06</td>\n",
              "      <td>1.117153e+07</td>\n",
              "      <td>1.958160e+06</td>\n",
              "      <td>5.717549e+06</td>\n",
              "    </tr>\n",
              "    <tr>\n",
              "      <th>Cleveland Cavaliers</th>\n",
              "      <td>7.768435e+06</td>\n",
              "      <td>1.394101e+07</td>\n",
              "      <td>6.551592e+06</td>\n",
              "      <td>9.472760e+05</td>\n",
              "      <td>3.349079e+06</td>\n",
              "    </tr>\n",
              "    <tr>\n",
              "      <th>Detroit Pistons</th>\n",
              "      <td>4.090697e+06</td>\n",
              "      <td>4.000000e+06</td>\n",
              "      <td>4.260003e+06</td>\n",
              "      <td>5.173600e+06</td>\n",
              "      <td>4.580880e+06</td>\n",
              "    </tr>\n",
              "    <tr>\n",
              "      <th>Golden State Warriors</th>\n",
              "      <td>6.541249e+06</td>\n",
              "      <td>1.426087e+07</td>\n",
              "      <td>1.137079e+07</td>\n",
              "      <td>3.766367e+06</td>\n",
              "      <td>8.224138e+06</td>\n",
              "    </tr>\n",
              "    <tr>\n",
              "      <th>Los Angeles Clippers</th>\n",
              "      <td>1.039480e+07</td>\n",
              "      <td>6.655482e+06</td>\n",
              "      <td>1.228975e+07</td>\n",
              "      <td>3.662924e+06</td>\n",
              "      <td>4.639893e+06</td>\n",
              "    </tr>\n",
              "    <tr>\n",
              "      <th>Miami Heat</th>\n",
              "      <td>9.813480e+05</td>\n",
              "      <td>1.019713e+07</td>\n",
              "      <td>NaN</td>\n",
              "      <td>4.298409e+06</td>\n",
              "      <td>7.123384e+06</td>\n",
              "    </tr>\n",
              "    <tr>\n",
              "      <th>Milwaukee Bucks</th>\n",
              "      <td>9.258397e+06</td>\n",
              "      <td>2.980240e+06</td>\n",
              "      <td>3.415350e+06</td>\n",
              "      <td>2.953270e+05</td>\n",
              "      <td>6.345079e+06</td>\n",
              "    </tr>\n",
              "    <tr>\n",
              "      <th>New Orleans Pelicans</th>\n",
              "      <td>NaN</td>\n",
              "      <td>6.140243e+06</td>\n",
              "      <td>3.910588e+06</td>\n",
              "      <td>1.661921e+06</td>\n",
              "      <td>5.497929e+06</td>\n",
              "    </tr>\n",
              "    <tr>\n",
              "      <th>Oklahoma City Thunder</th>\n",
              "      <td>6.303143e+06</td>\n",
              "      <td>2.606520e+06</td>\n",
              "      <td>9.382869e+06</td>\n",
              "      <td>8.599621e+06</td>\n",
              "      <td>3.207058e+06</td>\n",
              "    </tr>\n",
              "    <tr>\n",
              "      <th>Sacramento Kings</th>\n",
              "      <td>8.983410e+06</td>\n",
              "      <td>6.850760e+05</td>\n",
              "      <td>7.256780e+06</td>\n",
              "      <td>4.944545e+06</td>\n",
              "      <td>1.706432e+06</td>\n",
              "    </tr>\n",
              "  </tbody>\n",
              "</table>\n",
              "</div>"
            ],
            "text/plain": [
              "Position                          C            PF  ...            SF            SG\n",
              "Team                                               ...                            \n",
              "Chicago Bulls          1.340000e+07  3.578740e+06  ...  1.958160e+06  5.717549e+06\n",
              "Cleveland Cavaliers    7.768435e+06  1.394101e+07  ...  9.472760e+05  3.349079e+06\n",
              "Detroit Pistons        4.090697e+06  4.000000e+06  ...  5.173600e+06  4.580880e+06\n",
              "Golden State Warriors  6.541249e+06  1.426087e+07  ...  3.766367e+06  8.224138e+06\n",
              "Los Angeles Clippers   1.039480e+07  6.655482e+06  ...  3.662924e+06  4.639893e+06\n",
              "Miami Heat             9.813480e+05  1.019713e+07  ...  4.298409e+06  7.123384e+06\n",
              "Milwaukee Bucks        9.258397e+06  2.980240e+06  ...  2.953270e+05  6.345079e+06\n",
              "New Orleans Pelicans            NaN  6.140243e+06  ...  1.661921e+06  5.497929e+06\n",
              "Oklahoma City Thunder  6.303143e+06  2.606520e+06  ...  8.599621e+06  3.207058e+06\n",
              "Sacramento Kings       8.983410e+06  6.850760e+05  ...  4.944545e+06  1.706432e+06\n",
              "\n",
              "[10 rows x 5 columns]"
            ]
          },
          "metadata": {
            "tags": []
          },
          "execution_count": 31
        }
      ]
    },
    {
      "cell_type": "code",
      "metadata": {
        "colab": {
          "base_uri": "https://localhost:8080/",
          "height": 296
        },
        "id": "ARMA0lj8YoGK",
        "outputId": "26caee5a-b86a-4b0d-c179-b59b2aed4a48"
      },
      "source": [
        "sns.heatmap(data = table, cmap = 'coolwarm');"
      ],
      "execution_count": 32,
      "outputs": [
        {
          "output_type": "display_data",
          "data": {
            "image/png": "[encoded data removed]",
            "text/plain": [
              "<Figure size 432x288 with 2 Axes>"
            ]
          },
          "metadata": {
            "tags": []
          }
        }
      ]
    }
  ]
}